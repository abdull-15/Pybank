{
 "cells": [
  {
   "cell_type": "code",
   "execution_count": 62,
   "metadata": {},
   "outputs": [],
   "source": [
    "from pathlib import Path\n",
    "import csv"
   ]
  },
  {
   "cell_type": "code",
   "execution_count": 63,
   "metadata": {},
   "outputs": [],
   "source": [
    "budget_datapath = Path(\"budget_data.csv\")\n"
   ]
  },
  {
   "cell_type": "code",
   "execution_count": 64,
   "metadata": {},
   "outputs": [],
   "source": [
    "profit_loss = []\n",
    "total_profit_loss = 0\n",
    "sum = 0\n",
    "dates = []\n",
    "profit_loss_change = []\n",
    "average_profit_loss_change = []\n",
    "pl_max = 0\n",
    "pl_min = 0\n",
    "line_num = 0\n"
   ]
  },
  {
   "cell_type": "code",
   "execution_count": 65,
   "metadata": {},
   "outputs": [],
   "source": [
    "with open(budget_datapath, \"r\")as budget_csv:\n",
    "    csv_reader = csv.reader(budget_csv, delimiter= \",\")\n",
    "    header = next(csv_reader)\n",
    "    for row in csv_reader:\n",
    "        line_num +=1\n",
    "        profit_loss.append(int(row[1]))\n",
    "        total_profit_loss +=int(row[1])\n",
    "        dates.append(row[0])"
   ]
  },
  {
   "cell_type": "code",
   "execution_count": 66,
   "metadata": {},
   "outputs": [],
   "source": [
    "for i in range(1, len(profit_loss)):\n",
    "    y = (profit_loss[i] - profit_loss[i-1])\n",
    "    profit_loss_change.append(int(y))"
   ]
  },
  {
   "cell_type": "code",
   "execution_count": 67,
   "metadata": {},
   "outputs": [
    {
     "name": "stdout",
     "output_type": "stream",
     "text": [
      "38382578\n",
      "-2315.12\n"
     ]
    }
   ],
   "source": [
    "for i in range(0, len(profit_loss_change)):\n",
    "    sum += profit_loss_change[i]\n",
    "    average_profit_loss_change = round((sum/(len(profit_loss_change))),2)\n",
    "print(total_profit_loss)\n",
    "print(average_profit_loss_change)\n",
    "    "
   ]
  },
  {
   "cell_type": "code",
   "execution_count": 102,
   "metadata": {},
   "outputs": [
    {
     "ename": "ValueError",
     "evalue": "[867884, 984655, 322013, -69417, 310503, 522857, 1033096, 604885, -216386, 477532, 893810, -80353, 779806, -335203, 697845, 793163, 485070, 584122, 62729, 668179, 899906, 834719, 132003, 309978, -755566, 1170593, 252788, 1151518, 817256, 570757, 506702, -1022534, 475062, 779976, 144175, 542494, 359333, 321469, 67780, 471435, 565603, 872480, 789480, 999942, -1196225, 268997, -687986, 1150461, 682458, 617856, 824098, 581943, 132864, 448062, 689161, 800701, 1166643, 947333, 578668, 988505, 1139715, 1029471, 687533, -524626, 158620, 87795, 423389, 840723, 568529, 332067, 989499, 778237, 650000, -1100387, -174946, 757143, 445709, 712961, -1163797, 569899, 768450, 102685, 795914, 60988, 138230, 671099] is not in list",
     "output_type": "error",
     "traceback": [
      "\u001b[1;31m---------------------------------------------------------------------------\u001b[0m",
      "\u001b[1;31mValueError\u001b[0m                                Traceback (most recent call last)",
      "\u001b[1;32m<ipython-input-102-175d0c18ad00>\u001b[0m in \u001b[0;36m<module>\u001b[1;34m\u001b[0m\n\u001b[0;32m      8\u001b[0m         \u001b[0mpl_min\u001b[0m \u001b[1;33m=\u001b[0m \u001b[0mprofloss\u001b[0m\u001b[1;33m\u001b[0m\u001b[1;33m\u001b[0m\u001b[0m\n\u001b[0;32m      9\u001b[0m \u001b[1;33m\u001b[0m\u001b[0m\n\u001b[1;32m---> 10\u001b[1;33m \u001b[0mmax_pl_index\u001b[0m \u001b[1;33m=\u001b[0m \u001b[0mprofit_loss\u001b[0m\u001b[1;33m.\u001b[0m\u001b[0mindex\u001b[0m\u001b[1;33m(\u001b[0m\u001b[0mpl_max\u001b[0m\u001b[1;33m)\u001b[0m\u001b[1;33m\u001b[0m\u001b[1;33m\u001b[0m\u001b[0m\n\u001b[0m\u001b[0;32m     11\u001b[0m \u001b[0mmin_pl_index\u001b[0m \u001b[1;33m=\u001b[0m \u001b[0mprofit_loss\u001b[0m\u001b[1;33m.\u001b[0m\u001b[0mindex\u001b[0m\u001b[1;33m(\u001b[0m\u001b[0mpl_min\u001b[0m\u001b[1;33m)\u001b[0m\u001b[1;33m\u001b[0m\u001b[1;33m\u001b[0m\u001b[0m\n\u001b[0;32m     12\u001b[0m \u001b[1;33m\u001b[0m\u001b[0m\n",
      "\u001b[1;31mValueError\u001b[0m: [867884, 984655, 322013, -69417, 310503, 522857, 1033096, 604885, -216386, 477532, 893810, -80353, 779806, -335203, 697845, 793163, 485070, 584122, 62729, 668179, 899906, 834719, 132003, 309978, -755566, 1170593, 252788, 1151518, 817256, 570757, 506702, -1022534, 475062, 779976, 144175, 542494, 359333, 321469, 67780, 471435, 565603, 872480, 789480, 999942, -1196225, 268997, -687986, 1150461, 682458, 617856, 824098, 581943, 132864, 448062, 689161, 800701, 1166643, 947333, 578668, 988505, 1139715, 1029471, 687533, -524626, 158620, 87795, 423389, 840723, 568529, 332067, 989499, 778237, 650000, -1100387, -174946, 757143, 445709, 712961, -1163797, 569899, 768450, 102685, 795914, 60988, 138230, 671099] is not in list"
     ]
    }
   ],
   "source": [
    "for profloss in profit_loss:\n",
    "    if pl_min == 0:\n",
    "        pl_max == profloss\n",
    "        pl_min == profloss\n",
    "    if profit_loss > pl_max:\n",
    "        pl_max = profloss\n",
    "    elif profit_loss < pl_min:\n",
    "        pl_min = profloss\n",
    "\n",
    "max_pl_index = profit_loss.index(pl_max)\n",
    "min_pl_index = profit_loss.index(pl_min)\n",
    "\n",
    "max_pl_date = dates[max_pl_index]\n",
    "min_pl_date = dates[min_pl_index]"
   ]
  },
  {
   "cell_type": "code",
   "execution_count": 94,
   "metadata": {},
   "outputs": [
    {
     "name": "stdout",
     "output_type": "stream",
     "text": [
      " Total months: 86\n",
      " Total profit: $38382578\n",
      " Average change: $-2315.12\n"
     ]
    }
   ],
   "source": [
    "print(f\" Total months: {line_num}\")\n",
    "print(f\" Total profit: ${total_profit_loss}\")\n",
    "print(f\" Average change: ${average_profit_loss_change}\")\n"
   ]
  },
  {
   "cell_type": "code",
   "execution_count": 105,
   "metadata": {},
   "outputs": [],
   "source": [
    "output_path= Path(\"output.txt\")\n",
    "with open(output_path, 'w') as file:\n",
    "    file.write(f\"Analysis\\n\")\n",
    "    file.write(f\"----------------------------\\n\")\n",
    "    file.write(f\"Total Months: {line_num} \\n\")\n",
    "    file.write(f\"Total: ${total_profit_loss} \\n\")\n",
    "    file.write(f\"Average Change: ${average_profit_loss_change}\\n\")\n",
    "    file.write(f\"Greatest increase in profits: N/A\\n\")\n",
    "    file.write(f\"Greatest decrease in profits: N/A\\n\")"
   ]
  },
  {
   "cell_type": "code",
   "execution_count": null,
   "metadata": {},
   "outputs": [],
   "source": []
  }
 ],
 "metadata": {
  "kernelspec": {
   "display_name": "Python 3",
   "language": "python",
   "name": "python3"
  },
  "language_info": {
   "codemirror_mode": {
    "name": "ipython",
    "version": 3
   },
   "file_extension": ".py",
   "mimetype": "text/x-python",
   "name": "python",
   "nbconvert_exporter": "python",
   "pygments_lexer": "ipython3",
   "version": "3.7.7"
  }
 },
 "nbformat": 4,
 "nbformat_minor": 4
}
